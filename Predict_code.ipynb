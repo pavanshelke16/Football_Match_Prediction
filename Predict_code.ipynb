{
 "cells": [
  {
   "cell_type": "code",
   "execution_count": 1,
   "id": "4e217dd5",
   "metadata": {},
   "outputs": [],
   "source": [
    "import numpy as np\n",
    "import pandas as pd\n",
    "from sklearn.model_selection import train_test_split\n",
    "from sklearn.ensemble import RandomForestClassifier\n",
    "from sklearn.linear_model import LogisticRegression\n",
    "from sklearn.metrics import accuracy_score, classification_report\n",
    "from sklearn.preprocessing import OneHotEncoder\n",
    "import warnings\n",
    "import pickle"
   ]
  },
  {
   "cell_type": "code",
   "execution_count": 3,
   "id": "2feb930c",
   "metadata": {},
   "outputs": [
    {
     "data": {
      "text/html": [
       "<div>\n",
       "<style scoped>\n",
       "    .dataframe tbody tr th:only-of-type {\n",
       "        vertical-align: middle;\n",
       "    }\n",
       "\n",
       "    .dataframe tbody tr th {\n",
       "        vertical-align: top;\n",
       "    }\n",
       "\n",
       "    .dataframe thead th {\n",
       "        text-align: right;\n",
       "    }\n",
       "</style>\n",
       "<table border=\"1\" class=\"dataframe\">\n",
       "  <thead>\n",
       "    <tr style=\"text-align: right;\">\n",
       "      <th></th>\n",
       "      <th>id</th>\n",
       "      <th>Home team</th>\n",
       "      <th>Home team score</th>\n",
       "      <th>Host team</th>\n",
       "      <th>Host team score</th>\n",
       "      <th>Home team win odd</th>\n",
       "      <th>Draw odd</th>\n",
       "      <th>Host team win odd</th>\n",
       "      <th>Event result type</th>\n",
       "      <th>leaguelink</th>\n",
       "      <th>season</th>\n",
       "    </tr>\n",
       "  </thead>\n",
       "  <tbody>\n",
       "    <tr>\n",
       "      <th>0</th>\n",
       "      <td>0x00204EE359B84E86A841B46A2827B602000000000000...</td>\n",
       "      <td>Blackburn</td>\n",
       "      <td>0</td>\n",
       "      <td>Newcastle</td>\n",
       "      <td>2</td>\n",
       "      <td>2.40</td>\n",
       "      <td>3.32</td>\n",
       "      <td>2.94</td>\n",
       "      <td>2</td>\n",
       "      <td>https://www.oddsportal.com/soccer/england/prem...</td>\n",
       "      <td>2011/2012</td>\n",
       "    </tr>\n",
       "    <tr>\n",
       "      <th>1</th>\n",
       "      <td>0x0093D138BD2E4EABB0744E2C63E08C17000000000000...</td>\n",
       "      <td>Aston Villa</td>\n",
       "      <td>0</td>\n",
       "      <td>Swansea</td>\n",
       "      <td>2</td>\n",
       "      <td>1.86</td>\n",
       "      <td>3.38</td>\n",
       "      <td>4.46</td>\n",
       "      <td>2</td>\n",
       "      <td>https://www.oddsportal.com/soccer/england/prem...</td>\n",
       "      <td>2011/2012</td>\n",
       "    </tr>\n",
       "    <tr>\n",
       "      <th>2</th>\n",
       "      <td>0x00EF64C8C97445BA83F2F15F257731E8000000000000...</td>\n",
       "      <td>West Brom</td>\n",
       "      <td>1</td>\n",
       "      <td>Chelsea</td>\n",
       "      <td>0</td>\n",
       "      <td>3.96</td>\n",
       "      <td>3.35</td>\n",
       "      <td>1.98</td>\n",
       "      <td>0</td>\n",
       "      <td>https://www.oddsportal.com/soccer/england/prem...</td>\n",
       "      <td>2011/2012</td>\n",
       "    </tr>\n",
       "    <tr>\n",
       "      <th>3</th>\n",
       "      <td>0x0134B4ED45D64813ACDB777A4179C0DA000000000000...</td>\n",
       "      <td>Manchester Utd</td>\n",
       "      <td>2</td>\n",
       "      <td>West Brom</td>\n",
       "      <td>0</td>\n",
       "      <td>1.32</td>\n",
       "      <td>5.27</td>\n",
       "      <td>9.35</td>\n",
       "      <td>0</td>\n",
       "      <td>https://www.oddsportal.com/soccer/england/prem...</td>\n",
       "      <td>2011/2012</td>\n",
       "    </tr>\n",
       "    <tr>\n",
       "      <th>4</th>\n",
       "      <td>0x0138B83B563B4834A732E3526A4C8A98000000000000...</td>\n",
       "      <td>Arsenal</td>\n",
       "      <td>1</td>\n",
       "      <td>Everton</td>\n",
       "      <td>0</td>\n",
       "      <td>1.51</td>\n",
       "      <td>4.10</td>\n",
       "      <td>6.51</td>\n",
       "      <td>0</td>\n",
       "      <td>https://www.oddsportal.com/soccer/england/prem...</td>\n",
       "      <td>2011/2012</td>\n",
       "    </tr>\n",
       "    <tr>\n",
       "      <th>...</th>\n",
       "      <td>...</td>\n",
       "      <td>...</td>\n",
       "      <td>...</td>\n",
       "      <td>...</td>\n",
       "      <td>...</td>\n",
       "      <td>...</td>\n",
       "      <td>...</td>\n",
       "      <td>...</td>\n",
       "      <td>...</td>\n",
       "      <td>...</td>\n",
       "      <td>...</td>\n",
       "    </tr>\n",
       "    <tr>\n",
       "      <th>3007</th>\n",
       "      <td>0xFCADF8E323D94542B3B7F2A973EDAE6A000000000000...</td>\n",
       "      <td>Leicester</td>\n",
       "      <td>3</td>\n",
       "      <td>Arsenal</td>\n",
       "      <td>0</td>\n",
       "      <td>2.66</td>\n",
       "      <td>3.62</td>\n",
       "      <td>2.64</td>\n",
       "      <td>0</td>\n",
       "      <td>https://www.oddsportal.com/soccer/england/prem...</td>\n",
       "      <td>2018/2019</td>\n",
       "    </tr>\n",
       "    <tr>\n",
       "      <th>3008</th>\n",
       "      <td>0xFD11E97CF33F465D8BE861945AA7909D000000000000...</td>\n",
       "      <td>Tottenham</td>\n",
       "      <td>1</td>\n",
       "      <td>Brighton</td>\n",
       "      <td>0</td>\n",
       "      <td>1.26</td>\n",
       "      <td>6.20</td>\n",
       "      <td>13.19</td>\n",
       "      <td>0</td>\n",
       "      <td>https://www.oddsportal.com/soccer/england/prem...</td>\n",
       "      <td>2018/2019</td>\n",
       "    </tr>\n",
       "    <tr>\n",
       "      <th>3009</th>\n",
       "      <td>0xFD230905139E4EFFBC0D7ACFA168DA36000000000000...</td>\n",
       "      <td>Crystal Palace</td>\n",
       "      <td>2</td>\n",
       "      <td>Huddersfield</td>\n",
       "      <td>0</td>\n",
       "      <td>1.46</td>\n",
       "      <td>4.37</td>\n",
       "      <td>8.22</td>\n",
       "      <td>0</td>\n",
       "      <td>https://www.oddsportal.com/soccer/england/prem...</td>\n",
       "      <td>2018/2019</td>\n",
       "    </tr>\n",
       "    <tr>\n",
       "      <th>3010</th>\n",
       "      <td>0xFE1729F15E3C4290B48E282FC0295652000000000000...</td>\n",
       "      <td>West Ham</td>\n",
       "      <td>4</td>\n",
       "      <td>Burnley</td>\n",
       "      <td>2</td>\n",
       "      <td>1.58</td>\n",
       "      <td>4.06</td>\n",
       "      <td>6.45</td>\n",
       "      <td>0</td>\n",
       "      <td>https://www.oddsportal.com/soccer/england/prem...</td>\n",
       "      <td>2018/2019</td>\n",
       "    </tr>\n",
       "    <tr>\n",
       "      <th>3011</th>\n",
       "      <td>0xFE36F2A184BC44578B618E492970DB66000000000000...</td>\n",
       "      <td>Huddersfield</td>\n",
       "      <td>0</td>\n",
       "      <td>Tottenham</td>\n",
       "      <td>2</td>\n",
       "      <td>6.25</td>\n",
       "      <td>3.94</td>\n",
       "      <td>1.62</td>\n",
       "      <td>2</td>\n",
       "      <td>https://www.oddsportal.com/soccer/england/prem...</td>\n",
       "      <td>2018/2019</td>\n",
       "    </tr>\n",
       "  </tbody>\n",
       "</table>\n",
       "<p>3012 rows × 11 columns</p>\n",
       "</div>"
      ],
      "text/plain": [
       "                                                     id       Home team   \n",
       "0     0x00204EE359B84E86A841B46A2827B602000000000000...       Blackburn  \\\n",
       "1     0x0093D138BD2E4EABB0744E2C63E08C17000000000000...     Aston Villa   \n",
       "2     0x00EF64C8C97445BA83F2F15F257731E8000000000000...       West Brom   \n",
       "3     0x0134B4ED45D64813ACDB777A4179C0DA000000000000...  Manchester Utd   \n",
       "4     0x0138B83B563B4834A732E3526A4C8A98000000000000...         Arsenal   \n",
       "...                                                 ...             ...   \n",
       "3007  0xFCADF8E323D94542B3B7F2A973EDAE6A000000000000...       Leicester   \n",
       "3008  0xFD11E97CF33F465D8BE861945AA7909D000000000000...       Tottenham   \n",
       "3009  0xFD230905139E4EFFBC0D7ACFA168DA36000000000000...  Crystal Palace   \n",
       "3010  0xFE1729F15E3C4290B48E282FC0295652000000000000...        West Ham   \n",
       "3011  0xFE36F2A184BC44578B618E492970DB66000000000000...    Huddersfield   \n",
       "\n",
       "      Home team score     Host team  Host team score  Home team win odd   \n",
       "0                   0     Newcastle                2               2.40  \\\n",
       "1                   0       Swansea                2               1.86   \n",
       "2                   1       Chelsea                0               3.96   \n",
       "3                   2     West Brom                0               1.32   \n",
       "4                   1       Everton                0               1.51   \n",
       "...               ...           ...              ...                ...   \n",
       "3007                3       Arsenal                0               2.66   \n",
       "3008                1      Brighton                0               1.26   \n",
       "3009                2  Huddersfield                0               1.46   \n",
       "3010                4       Burnley                2               1.58   \n",
       "3011                0     Tottenham                2               6.25   \n",
       "\n",
       "      Draw odd  Host team win odd  Event result type   \n",
       "0         3.32               2.94                  2  \\\n",
       "1         3.38               4.46                  2   \n",
       "2         3.35               1.98                  0   \n",
       "3         5.27               9.35                  0   \n",
       "4         4.10               6.51                  0   \n",
       "...        ...                ...                ...   \n",
       "3007      3.62               2.64                  0   \n",
       "3008      6.20              13.19                  0   \n",
       "3009      4.37               8.22                  0   \n",
       "3010      4.06               6.45                  0   \n",
       "3011      3.94               1.62                  2   \n",
       "\n",
       "                                             leaguelink     season  \n",
       "0     https://www.oddsportal.com/soccer/england/prem...  2011/2012  \n",
       "1     https://www.oddsportal.com/soccer/england/prem...  2011/2012  \n",
       "2     https://www.oddsportal.com/soccer/england/prem...  2011/2012  \n",
       "3     https://www.oddsportal.com/soccer/england/prem...  2011/2012  \n",
       "4     https://www.oddsportal.com/soccer/england/prem...  2011/2012  \n",
       "...                                                 ...        ...  \n",
       "3007  https://www.oddsportal.com/soccer/england/prem...  2018/2019  \n",
       "3008  https://www.oddsportal.com/soccer/england/prem...  2018/2019  \n",
       "3009  https://www.oddsportal.com/soccer/england/prem...  2018/2019  \n",
       "3010  https://www.oddsportal.com/soccer/england/prem...  2018/2019  \n",
       "3011  https://www.oddsportal.com/soccer/england/prem...  2018/2019  \n",
       "\n",
       "[3012 rows x 11 columns]"
      ]
     },
     "execution_count": 3,
     "metadata": {},
     "output_type": "execute_result"
    }
   ],
   "source": [
    "data_path = 'event.csv'\n",
    "df = pd.read_csv(data_path)\n",
    "df"
   ]
  },
  {
   "cell_type": "code",
   "execution_count": 4,
   "id": "9d5139a4",
   "metadata": {},
   "outputs": [
    {
     "data": {
      "text/html": [
       "<div>\n",
       "<style scoped>\n",
       "    .dataframe tbody tr th:only-of-type {\n",
       "        vertical-align: middle;\n",
       "    }\n",
       "\n",
       "    .dataframe tbody tr th {\n",
       "        vertical-align: top;\n",
       "    }\n",
       "\n",
       "    .dataframe thead th {\n",
       "        text-align: right;\n",
       "    }\n",
       "</style>\n",
       "<table border=\"1\" class=\"dataframe\">\n",
       "  <thead>\n",
       "    <tr style=\"text-align: right;\">\n",
       "      <th></th>\n",
       "      <th>Home team</th>\n",
       "      <th>Host team</th>\n",
       "    </tr>\n",
       "  </thead>\n",
       "  <tbody>\n",
       "    <tr>\n",
       "      <th>0</th>\n",
       "      <td>Blackburn</td>\n",
       "      <td>Newcastle</td>\n",
       "    </tr>\n",
       "    <tr>\n",
       "      <th>1</th>\n",
       "      <td>Aston Villa</td>\n",
       "      <td>Swansea</td>\n",
       "    </tr>\n",
       "    <tr>\n",
       "      <th>2</th>\n",
       "      <td>West Brom</td>\n",
       "      <td>Chelsea</td>\n",
       "    </tr>\n",
       "    <tr>\n",
       "      <th>3</th>\n",
       "      <td>Manchester Utd</td>\n",
       "      <td>West Brom</td>\n",
       "    </tr>\n",
       "    <tr>\n",
       "      <th>4</th>\n",
       "      <td>Arsenal</td>\n",
       "      <td>Everton</td>\n",
       "    </tr>\n",
       "    <tr>\n",
       "      <th>...</th>\n",
       "      <td>...</td>\n",
       "      <td>...</td>\n",
       "    </tr>\n",
       "    <tr>\n",
       "      <th>3007</th>\n",
       "      <td>Leicester</td>\n",
       "      <td>Arsenal</td>\n",
       "    </tr>\n",
       "    <tr>\n",
       "      <th>3008</th>\n",
       "      <td>Tottenham</td>\n",
       "      <td>Brighton</td>\n",
       "    </tr>\n",
       "    <tr>\n",
       "      <th>3009</th>\n",
       "      <td>Crystal Palace</td>\n",
       "      <td>Huddersfield</td>\n",
       "    </tr>\n",
       "    <tr>\n",
       "      <th>3010</th>\n",
       "      <td>West Ham</td>\n",
       "      <td>Burnley</td>\n",
       "    </tr>\n",
       "    <tr>\n",
       "      <th>3011</th>\n",
       "      <td>Huddersfield</td>\n",
       "      <td>Tottenham</td>\n",
       "    </tr>\n",
       "  </tbody>\n",
       "</table>\n",
       "<p>3012 rows × 2 columns</p>\n",
       "</div>"
      ],
      "text/plain": [
       "           Home team     Host team\n",
       "0          Blackburn     Newcastle\n",
       "1        Aston Villa       Swansea\n",
       "2          West Brom       Chelsea\n",
       "3     Manchester Utd     West Brom\n",
       "4            Arsenal       Everton\n",
       "...              ...           ...\n",
       "3007       Leicester       Arsenal\n",
       "3008       Tottenham      Brighton\n",
       "3009  Crystal Palace  Huddersfield\n",
       "3010        West Ham       Burnley\n",
       "3011    Huddersfield     Tottenham\n",
       "\n",
       "[3012 rows x 2 columns]"
      ]
     },
     "execution_count": 4,
     "metadata": {},
     "output_type": "execute_result"
    }
   ],
   "source": [
    "d1 = df.iloc[:,[1,3]]\n",
    "d1 = d1.rename(columns={' Host team': 'Host team'})\n",
    "d1"
   ]
  },
  {
   "cell_type": "code",
   "execution_count": 5,
   "id": "a60630cc",
   "metadata": {},
   "outputs": [],
   "source": [
    "encoder = OneHotEncoder(sparse_output=False, drop='first')\n",
    "team_names_encoded = encoder.fit_transform(d1[['Home team', 'Host team']])\n",
    " "
   ]
  },
  {
   "cell_type": "code",
   "execution_count": 6,
   "id": "b5441d51",
   "metadata": {},
   "outputs": [],
   "source": [
    "#df = df.dropna()\n",
    "#df = df.iloc[:,1:]\n",
    "#df"
   ]
  },
  {
   "cell_type": "code",
   "execution_count": 7,
   "id": "d1f146ba",
   "metadata": {},
   "outputs": [],
   "source": [
    "#df['goal_difference'] = df['Home team score'] - df['Host team score']"
   ]
  },
  {
   "cell_type": "code",
   "execution_count": 8,
   "id": "4fa001ff",
   "metadata": {},
   "outputs": [],
   "source": [
    "# Step 6: Model Selection\n",
    "X = team_names_encoded\n",
    "y = df['Event result type']"
   ]
  },
  {
   "cell_type": "code",
   "execution_count": 9,
   "id": "a4095fee",
   "metadata": {},
   "outputs": [],
   "source": [
    "# Step 7: Data Splitting\n",
    "X_train, X_test, y_train, y_test = train_test_split(X, y, test_size=0.2, random_state=42)\n"
   ]
  },
  {
   "cell_type": "code",
   "execution_count": 10,
   "id": "8dc76315",
   "metadata": {},
   "outputs": [
    {
     "data": {
      "text/html": [
       "<style>#sk-container-id-1 {color: black;}#sk-container-id-1 pre{padding: 0;}#sk-container-id-1 div.sk-toggleable {background-color: white;}#sk-container-id-1 label.sk-toggleable__label {cursor: pointer;display: block;width: 100%;margin-bottom: 0;padding: 0.3em;box-sizing: border-box;text-align: center;}#sk-container-id-1 label.sk-toggleable__label-arrow:before {content: \"▸\";float: left;margin-right: 0.25em;color: #696969;}#sk-container-id-1 label.sk-toggleable__label-arrow:hover:before {color: black;}#sk-container-id-1 div.sk-estimator:hover label.sk-toggleable__label-arrow:before {color: black;}#sk-container-id-1 div.sk-toggleable__content {max-height: 0;max-width: 0;overflow: hidden;text-align: left;background-color: #f0f8ff;}#sk-container-id-1 div.sk-toggleable__content pre {margin: 0.2em;color: black;border-radius: 0.25em;background-color: #f0f8ff;}#sk-container-id-1 input.sk-toggleable__control:checked~div.sk-toggleable__content {max-height: 200px;max-width: 100%;overflow: auto;}#sk-container-id-1 input.sk-toggleable__control:checked~label.sk-toggleable__label-arrow:before {content: \"▾\";}#sk-container-id-1 div.sk-estimator input.sk-toggleable__control:checked~label.sk-toggleable__label {background-color: #d4ebff;}#sk-container-id-1 div.sk-label input.sk-toggleable__control:checked~label.sk-toggleable__label {background-color: #d4ebff;}#sk-container-id-1 input.sk-hidden--visually {border: 0;clip: rect(1px 1px 1px 1px);clip: rect(1px, 1px, 1px, 1px);height: 1px;margin: -1px;overflow: hidden;padding: 0;position: absolute;width: 1px;}#sk-container-id-1 div.sk-estimator {font-family: monospace;background-color: #f0f8ff;border: 1px dotted black;border-radius: 0.25em;box-sizing: border-box;margin-bottom: 0.5em;}#sk-container-id-1 div.sk-estimator:hover {background-color: #d4ebff;}#sk-container-id-1 div.sk-parallel-item::after {content: \"\";width: 100%;border-bottom: 1px solid gray;flex-grow: 1;}#sk-container-id-1 div.sk-label:hover label.sk-toggleable__label {background-color: #d4ebff;}#sk-container-id-1 div.sk-serial::before {content: \"\";position: absolute;border-left: 1px solid gray;box-sizing: border-box;top: 0;bottom: 0;left: 50%;z-index: 0;}#sk-container-id-1 div.sk-serial {display: flex;flex-direction: column;align-items: center;background-color: white;padding-right: 0.2em;padding-left: 0.2em;position: relative;}#sk-container-id-1 div.sk-item {position: relative;z-index: 1;}#sk-container-id-1 div.sk-parallel {display: flex;align-items: stretch;justify-content: center;background-color: white;position: relative;}#sk-container-id-1 div.sk-item::before, #sk-container-id-1 div.sk-parallel-item::before {content: \"\";position: absolute;border-left: 1px solid gray;box-sizing: border-box;top: 0;bottom: 0;left: 50%;z-index: -1;}#sk-container-id-1 div.sk-parallel-item {display: flex;flex-direction: column;z-index: 1;position: relative;background-color: white;}#sk-container-id-1 div.sk-parallel-item:first-child::after {align-self: flex-end;width: 50%;}#sk-container-id-1 div.sk-parallel-item:last-child::after {align-self: flex-start;width: 50%;}#sk-container-id-1 div.sk-parallel-item:only-child::after {width: 0;}#sk-container-id-1 div.sk-dashed-wrapped {border: 1px dashed gray;margin: 0 0.4em 0.5em 0.4em;box-sizing: border-box;padding-bottom: 0.4em;background-color: white;}#sk-container-id-1 div.sk-label label {font-family: monospace;font-weight: bold;display: inline-block;line-height: 1.2em;}#sk-container-id-1 div.sk-label-container {text-align: center;}#sk-container-id-1 div.sk-container {/* jupyter's `normalize.less` sets `[hidden] { display: none; }` but bootstrap.min.css set `[hidden] { display: none !important; }` so we also need the `!important` here to be able to override the default hidden behavior on the sphinx rendered scikit-learn.org. See: https://github.com/scikit-learn/scikit-learn/issues/21755 */display: inline-block !important;position: relative;}#sk-container-id-1 div.sk-text-repr-fallback {display: none;}</style><div id=\"sk-container-id-1\" class=\"sk-top-container\"><div class=\"sk-text-repr-fallback\"><pre>RandomForestClassifier()</pre><b>In a Jupyter environment, please rerun this cell to show the HTML representation or trust the notebook. <br />On GitHub, the HTML representation is unable to render, please try loading this page with nbviewer.org.</b></div><div class=\"sk-container\" hidden><div class=\"sk-item\"><div class=\"sk-estimator sk-toggleable\"><input class=\"sk-toggleable__control sk-hidden--visually\" id=\"sk-estimator-id-1\" type=\"checkbox\" checked><label for=\"sk-estimator-id-1\" class=\"sk-toggleable__label sk-toggleable__label-arrow\">RandomForestClassifier</label><div class=\"sk-toggleable__content\"><pre>RandomForestClassifier()</pre></div></div></div></div></div>"
      ],
      "text/plain": [
       "RandomForestClassifier()"
      ]
     },
     "execution_count": 10,
     "metadata": {},
     "output_type": "execute_result"
    }
   ],
   "source": [
    "# Step 8: Model Training - Random Forest\n",
    "rf_model = RandomForestClassifier()\n",
    "rf_model.fit(X_train, y_train)"
   ]
  },
  {
   "cell_type": "code",
   "execution_count": 11,
   "id": "a5700471",
   "metadata": {},
   "outputs": [
    {
     "name": "stdout",
     "output_type": "stream",
     "text": [
      "Random Forest Accuracy: 0.43\n"
     ]
    }
   ],
   "source": [
    "# Step 9: Model Evaluation - Random Forest\n",
    "y_pred_rf = rf_model.predict(X_test)\n",
    "accuracy_rf = accuracy_score(y_test, y_pred_rf)\n",
    "print(f'Random Forest Accuracy: {accuracy_rf:.2f}')"
   ]
  },
  {
   "cell_type": "code",
   "execution_count": 12,
   "id": "f580c57f",
   "metadata": {},
   "outputs": [
    {
     "data": {
      "text/html": [
       "<style>#sk-container-id-2 {color: black;}#sk-container-id-2 pre{padding: 0;}#sk-container-id-2 div.sk-toggleable {background-color: white;}#sk-container-id-2 label.sk-toggleable__label {cursor: pointer;display: block;width: 100%;margin-bottom: 0;padding: 0.3em;box-sizing: border-box;text-align: center;}#sk-container-id-2 label.sk-toggleable__label-arrow:before {content: \"▸\";float: left;margin-right: 0.25em;color: #696969;}#sk-container-id-2 label.sk-toggleable__label-arrow:hover:before {color: black;}#sk-container-id-2 div.sk-estimator:hover label.sk-toggleable__label-arrow:before {color: black;}#sk-container-id-2 div.sk-toggleable__content {max-height: 0;max-width: 0;overflow: hidden;text-align: left;background-color: #f0f8ff;}#sk-container-id-2 div.sk-toggleable__content pre {margin: 0.2em;color: black;border-radius: 0.25em;background-color: #f0f8ff;}#sk-container-id-2 input.sk-toggleable__control:checked~div.sk-toggleable__content {max-height: 200px;max-width: 100%;overflow: auto;}#sk-container-id-2 input.sk-toggleable__control:checked~label.sk-toggleable__label-arrow:before {content: \"▾\";}#sk-container-id-2 div.sk-estimator input.sk-toggleable__control:checked~label.sk-toggleable__label {background-color: #d4ebff;}#sk-container-id-2 div.sk-label input.sk-toggleable__control:checked~label.sk-toggleable__label {background-color: #d4ebff;}#sk-container-id-2 input.sk-hidden--visually {border: 0;clip: rect(1px 1px 1px 1px);clip: rect(1px, 1px, 1px, 1px);height: 1px;margin: -1px;overflow: hidden;padding: 0;position: absolute;width: 1px;}#sk-container-id-2 div.sk-estimator {font-family: monospace;background-color: #f0f8ff;border: 1px dotted black;border-radius: 0.25em;box-sizing: border-box;margin-bottom: 0.5em;}#sk-container-id-2 div.sk-estimator:hover {background-color: #d4ebff;}#sk-container-id-2 div.sk-parallel-item::after {content: \"\";width: 100%;border-bottom: 1px solid gray;flex-grow: 1;}#sk-container-id-2 div.sk-label:hover label.sk-toggleable__label {background-color: #d4ebff;}#sk-container-id-2 div.sk-serial::before {content: \"\";position: absolute;border-left: 1px solid gray;box-sizing: border-box;top: 0;bottom: 0;left: 50%;z-index: 0;}#sk-container-id-2 div.sk-serial {display: flex;flex-direction: column;align-items: center;background-color: white;padding-right: 0.2em;padding-left: 0.2em;position: relative;}#sk-container-id-2 div.sk-item {position: relative;z-index: 1;}#sk-container-id-2 div.sk-parallel {display: flex;align-items: stretch;justify-content: center;background-color: white;position: relative;}#sk-container-id-2 div.sk-item::before, #sk-container-id-2 div.sk-parallel-item::before {content: \"\";position: absolute;border-left: 1px solid gray;box-sizing: border-box;top: 0;bottom: 0;left: 50%;z-index: -1;}#sk-container-id-2 div.sk-parallel-item {display: flex;flex-direction: column;z-index: 1;position: relative;background-color: white;}#sk-container-id-2 div.sk-parallel-item:first-child::after {align-self: flex-end;width: 50%;}#sk-container-id-2 div.sk-parallel-item:last-child::after {align-self: flex-start;width: 50%;}#sk-container-id-2 div.sk-parallel-item:only-child::after {width: 0;}#sk-container-id-2 div.sk-dashed-wrapped {border: 1px dashed gray;margin: 0 0.4em 0.5em 0.4em;box-sizing: border-box;padding-bottom: 0.4em;background-color: white;}#sk-container-id-2 div.sk-label label {font-family: monospace;font-weight: bold;display: inline-block;line-height: 1.2em;}#sk-container-id-2 div.sk-label-container {text-align: center;}#sk-container-id-2 div.sk-container {/* jupyter's `normalize.less` sets `[hidden] { display: none; }` but bootstrap.min.css set `[hidden] { display: none !important; }` so we also need the `!important` here to be able to override the default hidden behavior on the sphinx rendered scikit-learn.org. See: https://github.com/scikit-learn/scikit-learn/issues/21755 */display: inline-block !important;position: relative;}#sk-container-id-2 div.sk-text-repr-fallback {display: none;}</style><div id=\"sk-container-id-2\" class=\"sk-top-container\"><div class=\"sk-text-repr-fallback\"><pre>LogisticRegression()</pre><b>In a Jupyter environment, please rerun this cell to show the HTML representation or trust the notebook. <br />On GitHub, the HTML representation is unable to render, please try loading this page with nbviewer.org.</b></div><div class=\"sk-container\" hidden><div class=\"sk-item\"><div class=\"sk-estimator sk-toggleable\"><input class=\"sk-toggleable__control sk-hidden--visually\" id=\"sk-estimator-id-2\" type=\"checkbox\" checked><label for=\"sk-estimator-id-2\" class=\"sk-toggleable__label sk-toggleable__label-arrow\">LogisticRegression</label><div class=\"sk-toggleable__content\"><pre>LogisticRegression()</pre></div></div></div></div></div>"
      ],
      "text/plain": [
       "LogisticRegression()"
      ]
     },
     "execution_count": 12,
     "metadata": {},
     "output_type": "execute_result"
    }
   ],
   "source": [
    "# Step 8: Model Training - Logistic Regression\n",
    "lr_model = LogisticRegression()\n",
    "lr_model.fit(X_train, y_train)"
   ]
  },
  {
   "cell_type": "code",
   "execution_count": 13,
   "id": "218961f2",
   "metadata": {},
   "outputs": [
    {
     "name": "stdout",
     "output_type": "stream",
     "text": [
      "Logistic Regression Accuracy: 0.54\n"
     ]
    }
   ],
   "source": [
    "# Step 9: Model Evaluation - Logistic Regression\n",
    "y_pred_lr = lr_model.predict(X_test)\n",
    "accuracy_lr = accuracy_score(y_test, y_pred_lr)\n",
    "print(f'Logistic Regression Accuracy: {accuracy_lr:.2f}')"
   ]
  },
  {
   "cell_type": "code",
   "execution_count": 14,
   "id": "cd87c819",
   "metadata": {},
   "outputs": [],
   "source": [
    "pickle.dump(lr_model,open('lr.pkl','wb'))"
   ]
  },
  {
   "cell_type": "code",
   "execution_count": 15,
   "id": "4bdeec22",
   "metadata": {},
   "outputs": [],
   "source": [
    "model_filename = 'lr.pkl'\n"
   ]
  },
  {
   "cell_type": "code",
   "execution_count": 16,
   "id": "93f63473",
   "metadata": {},
   "outputs": [],
   "source": [
    "with open(model_filename, 'rb') as file:\n",
    "    loaded_model = pickle.load(file)"
   ]
  },
  {
   "cell_type": "code",
   "execution_count": 17,
   "id": "fae75c82",
   "metadata": {},
   "outputs": [],
   "source": [
    "home_team = input(\"Enter the home team: \")\n",
    "away_team = input(\"Enter the away team: \")"
   ]
  },
  {
   "cell_type": "code",
   "execution_count": 18,
   "id": "1cd3f620",
   "metadata": {},
   "outputs": [],
   "source": [
    "encoder = OneHotEncoder(sparse_output=False, drop='first')\n",
    "team_names_encoded = encoder.fit_transform(d1[['Home team', 'Host team']])"
   ]
  },
  {
   "cell_type": "code",
   "execution_count": 19,
   "id": "c2fcd3ce",
   "metadata": {},
   "outputs": [],
   "source": [
    "feature_names = encoder.get_feature_names_out(['Home team', 'Host team'])\n"
   ]
  },
  {
   "cell_type": "code",
   "execution_count": 20,
   "id": "73097c37",
   "metadata": {},
   "outputs": [],
   "source": [
    "with warnings.catch_warnings():\n",
    "    warnings.simplefilter(\"ignore\")\n",
    "\n",
    "    encoded_home_team = encoder.transform([[home_team, away_team]])"
   ]
  },
  {
   "cell_type": "code",
   "execution_count": 21,
   "id": "97d4538b",
   "metadata": {},
   "outputs": [],
   "source": [
    "result_labels = {0: \"Home team will win\", 1: \"Match will be draw\", 2: \"Away team will win\"}"
   ]
  },
  {
   "cell_type": "code",
   "execution_count": 22,
   "id": "dda8d7a0",
   "metadata": {},
   "outputs": [],
   "source": [
    "user_predictions = loaded_model.predict(encoded_home_team)\n"
   ]
  },
  {
   "cell_type": "code",
   "execution_count": 23,
   "id": "4b5d7d31",
   "metadata": {
    "scrolled": true
   },
   "outputs": [],
   "source": [
    "predicted_result_label = result_labels[user_predictions[0]]"
   ]
  },
  {
   "cell_type": "code",
   "execution_count": 24,
   "id": "8ec67de4",
   "metadata": {},
   "outputs": [],
   "source": [
    "user_predictions = loaded_model.predict(encoded_home_team)\n"
   ]
  },
  {
   "cell_type": "code",
   "execution_count": 25,
   "id": "8f2d33fa",
   "metadata": {},
   "outputs": [],
   "source": [
    "predicted_result_label = result_labels[user_predictions[0]]"
   ]
  },
  {
   "cell_type": "code",
   "execution_count": 26,
   "id": "fec0a038",
   "metadata": {},
   "outputs": [
    {
     "name": "stdout",
     "output_type": "stream",
     "text": [
      "Predicted match result: Home team will win\n"
     ]
    }
   ],
   "source": [
    "print(f\"Predicted match result: {predicted_result_label}\")\n"
   ]
  },
  {
   "cell_type": "code",
   "execution_count": 2,
   "id": "bdbbff83",
   "metadata": {},
   "outputs": [
    {
     "name": "stdout",
     "output_type": "stream",
     "text": [
      "Note: you may need to restart the kernel to use updated packages.\n"
     ]
    }
   ],
   "source": []
  },
  {
   "cell_type": "code",
   "execution_count": null,
   "id": "7f87789c",
   "metadata": {},
   "outputs": [],
   "source": []
  }
 ],
 "metadata": {
  "kernelspec": {
   "display_name": "Python 3 (ipykernel)",
   "language": "python",
   "name": "python3"
  },
  "language_info": {
   "codemirror_mode": {
    "name": "ipython",
    "version": 3
   },
   "file_extension": ".py",
   "mimetype": "text/x-python",
   "name": "python",
   "nbconvert_exporter": "python",
   "pygments_lexer": "ipython3",
   "version": "3.11.3"
  }
 },
 "nbformat": 4,
 "nbformat_minor": 5
}
